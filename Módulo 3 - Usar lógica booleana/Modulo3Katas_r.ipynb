{
 "cells": [
  {
   "cell_type": "markdown",
   "metadata": {},
   "source": [
    "# Ejercicio - Escribir declaraciones if, else, y elif"
   ]
  },
  {
   "cell_type": "code",
   "execution_count": 1,
   "metadata": {},
   "outputs": [
    {
     "name": "stdout",
     "output_type": "stream",
     "text": [
      " ¡Alerta Asteroide  acercandoce a más de 25km/s\n"
     ]
    }
   ],
   "source": [
    "# Añadir el código necesario para crear una variable que guarde la velocidad del asteroide.\n",
    "# Escribe una expresión de prueba para calcular si necesita una advertencia.\n",
    "# Agregue las instrucciones que se ejecutarán si la expresión de prueba es true o false.\n",
    "\n",
    "# Cualquier velocidad superior a 25 kilómetros por segundo (km/s) merece una advertencia\n",
    "# Un asteroide se acerca, y viaja a una velocidad de 49 km/s.\n",
    "asteroide = 49\n",
    "\n",
    "if asteroide > 25:\n",
    "    print(' ¡Alerta Asteroide acercandoce a más de 25km/s')\n",
    "else:\n",
    "     print('No hay peligro')    \n"
   ]
  },
  {
   "cell_type": "code",
   "execution_count": 2,
   "metadata": {},
   "outputs": [
    {
     "name": "stdout",
     "output_type": "stream",
     "text": [
      "Hoy no hay nada que ver\n"
     ]
    }
   ],
   "source": [
    "# Agrega el código para crear una variable para un asteroide que viaja a 19 km/s\n",
    "# Escribe varias expresiones de prueba para determinar si puedes ver el rayo de luz desde la tierra\n",
    "# Agrega las instrucciones que se ejecutarán si las expresiones de prueba son True o False\n",
    "\n",
    "#Si un asteroide entra en la atmósfera de la Tierra a una velocidad mayor o igual a 20 km/s, a veces produce un rayo de luz que se puede ver desde la Tierra.\n",
    "#¡Hay uno que se dirige a la tierra ahora a una velocidad de 19 km/s!\n",
    "\n",
    "asteroide = 19\n",
    "\n",
    "if asteroide > 20:\n",
    "    print('El asteroide emite luz')\n",
    "elif asteroide == 20:\n",
    "    print('El asteroide emite luz')   \n",
    "else:\n",
    "    print('Hoy no hay nada que ver')"
   ]
  },
  {
   "cell_type": "markdown",
   "metadata": {},
   "source": [
    "# Ejercicio: Uso de operadores and y or"
   ]
  },
  {
   "cell_type": "code",
   "execution_count": null,
   "metadata": {},
   "outputs": [],
   "source": [
    "# Agrega el código para crear nuevas variables para la velocidad y el tamaño del asteroide\n",
    "# Para probar el código, prueba con varias velocidades y tamaños\n",
    "# Escribe varias expresiones de prueba o combinaciones de expresiones de prueba para determinar qué mensaje se debe enviar a Tierra.\n",
    "\n",
    "#Asteroide\n",
    "tamanno= 25\n",
    "velocidad= 40\n",
    "\n",
    "if velocidad > 25 and tamanno > 25:\n",
    "    print('¡Alerta, asteroide potencialmente peligroso se acerca a la tierra!')\n",
    "elif velocidad>= 20:\n",
    "    print('Un asteroide pequeño está dehando una luz en el cielo')\n",
    "elif tamanno < 25:\n",
    "    print('No hay de qué preocuparse')\n",
    "else:\n",
    "    print('No hay de qué preocuparse')\n",
    "\n"
   ]
  }
 ],
 "metadata": {
  "interpreter": {
   "hash": "6cb0915329ccec01f4499046182262fd3b9d9ce565028511c0a9bdccbdbfba69"
  },
  "kernelspec": {
   "display_name": "Python 3.10.2 64-bit",
   "language": "python",
   "name": "python3"
  },
  "language_info": {
   "codemirror_mode": {
    "name": "ipython",
    "version": 3
   },
   "file_extension": ".py",
   "mimetype": "text/x-python",
   "name": "python",
   "nbconvert_exporter": "python",
   "pygments_lexer": "ipython3",
   "version": "3.10.2"
  },
  "orig_nbformat": 4
 },
 "nbformat": 4,
 "nbformat_minor": 2
}
